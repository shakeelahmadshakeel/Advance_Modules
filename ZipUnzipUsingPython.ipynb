{
 "cells": [
  {
   "cell_type": "code",
   "execution_count": 1,
   "id": "3d87821e",
   "metadata": {},
   "outputs": [],
   "source": [
    "# slashes may need to change for MacOS or Linux\n",
    "f = open(\"new_file.txt\",'w+')\n",
    "f.write(\"Here is some text\")\n",
    "f.close()"
   ]
  },
  {
   "cell_type": "code",
   "execution_count": 2,
   "id": "b8175336",
   "metadata": {},
   "outputs": [],
   "source": [
    "# slashes may need to change for MacOS or Linux\n",
    "f = open(\"new_file2.txt\",'w+')\n",
    "f.write(\"Here is some text\")\n",
    "f.close()"
   ]
  },
  {
   "cell_type": "code",
   "execution_count": 3,
   "id": "87621cd4",
   "metadata": {},
   "outputs": [],
   "source": [
    "import zipfile"
   ]
  },
  {
   "cell_type": "code",
   "execution_count": 4,
   "id": "15a17683",
   "metadata": {},
   "outputs": [],
   "source": [
    "comp_file = zipfile.ZipFile('comp_file.zip','w')"
   ]
  },
  {
   "cell_type": "code",
   "execution_count": 5,
   "id": "b35de62c",
   "metadata": {},
   "outputs": [],
   "source": [
    "\n",
    "comp_file.write(\"new_file.txt\",compress_type=zipfile.ZIP_DEFLATED)"
   ]
  },
  {
   "cell_type": "code",
   "execution_count": 6,
   "id": "d47c981d",
   "metadata": {},
   "outputs": [],
   "source": [
    "comp_file.write('new_file2.txt',compress_type=zipfile.ZIP_DEFLATED)"
   ]
  },
  {
   "cell_type": "code",
   "execution_count": 7,
   "id": "cc6d829a",
   "metadata": {},
   "outputs": [],
   "source": [
    "comp_file.close()"
   ]
  },
  {
   "cell_type": "code",
   "execution_count": 8,
   "id": "4a656a99",
   "metadata": {},
   "outputs": [],
   "source": [
    "#Extracting from Zip Files"
   ]
  },
  {
   "cell_type": "code",
   "execution_count": 9,
   "id": "efd9a0dd",
   "metadata": {},
   "outputs": [],
   "source": [
    "zip_obj = zipfile.ZipFile('comp_file.zip','r')"
   ]
  },
  {
   "cell_type": "code",
   "execution_count": 10,
   "id": "a6b6bfdf",
   "metadata": {},
   "outputs": [],
   "source": [
    "zip_obj.extractall(\"extracted_content\")"
   ]
  },
  {
   "cell_type": "code",
   "execution_count": 11,
   "id": "a55f1bca",
   "metadata": {},
   "outputs": [],
   "source": [
    "import shutil"
   ]
  },
  {
   "cell_type": "code",
   "execution_count": 12,
   "id": "2632ad12",
   "metadata": {},
   "outputs": [
    {
     "data": {
      "text/plain": [
       "'C:\\\\Users\\\\AADIL LAPTOPS\\\\Udemy'"
      ]
     },
     "execution_count": 12,
     "metadata": {},
     "output_type": "execute_result"
    }
   ],
   "source": [
    "pwd"
   ]
  },
  {
   "cell_type": "code",
   "execution_count": 22,
   "id": "336df454",
   "metadata": {},
   "outputs": [],
   "source": [
    "directory_to_zip= \"C:\\\\Users\\\\AADIL LAPTOPS\\\\Udemy\\\\extracted_content\""
   ]
  },
  {
   "cell_type": "code",
   "execution_count": 23,
   "id": "81af4f4f",
   "metadata": {},
   "outputs": [
    {
     "data": {
      "text/plain": [
       "'C:\\\\Users\\\\AADIL LAPTOPS\\\\Udemy\\\\example.zip'"
      ]
     },
     "execution_count": 23,
     "metadata": {},
     "output_type": "execute_result"
    }
   ],
   "source": [
    "output_filename = 'example'\n",
    "# Just fill in the output_filename and the directory to zip\n",
    "# Note this won't run as is because the variable are undefined\n",
    "shutil.make_archive(output_filename,'zip',directory_to_zip)"
   ]
  },
  {
   "cell_type": "code",
   "execution_count": 24,
   "id": "2970600f",
   "metadata": {},
   "outputs": [],
   "source": [
    "# Extracting a zip archive\n",
    "# Notice how the parameter/argument order is slightly different here\n",
    "shutil.unpack_archive(\"example.zip\",\"dir_for_extract_result\",'zip')"
   ]
  },
  {
   "cell_type": "code",
   "execution_count": null,
   "id": "2e62d66f",
   "metadata": {},
   "outputs": [],
   "source": []
  }
 ],
 "metadata": {
  "kernelspec": {
   "display_name": "Python 3 (ipykernel)",
   "language": "python",
   "name": "python3"
  },
  "language_info": {
   "codemirror_mode": {
    "name": "ipython",
    "version": 3
   },
   "file_extension": ".py",
   "mimetype": "text/x-python",
   "name": "python",
   "nbconvert_exporter": "python",
   "pygments_lexer": "ipython3",
   "version": "3.9.12"
  }
 },
 "nbformat": 4,
 "nbformat_minor": 5
}
